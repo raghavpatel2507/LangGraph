{
 "cells": [
  {
   "cell_type": "code",
   "execution_count": 12,
   "id": "d2ae7c29",
   "metadata": {},
   "outputs": [],
   "source": [
    "from langgraph.graph import StateGraph,START,END\n",
    "from typing import TypedDict,Literal"
   ]
  },
  {
   "cell_type": "code",
   "execution_count": 2,
   "id": "391cd1ec",
   "metadata": {},
   "outputs": [],
   "source": [
    "class QuadState(TypedDict):\n",
    "    a:int\n",
    "    b:int\n",
    "    c:int\n",
    "\n",
    "    equation:str\n",
    "    descriminant:int\n",
    "    result:str"
   ]
  },
  {
   "cell_type": "code",
   "execution_count": 5,
   "id": "4e7a3a3d",
   "metadata": {},
   "outputs": [],
   "source": [
    "def show_equation(state:QuadState):\n",
    "\n",
    "   equation = f\"{state['a']}X^2 + {state['b']}X + {state['c']}\"\n",
    "   return {'equation':equation}"
   ]
  },
  {
   "cell_type": "code",
   "execution_count": null,
   "id": "ac7a7fbf",
   "metadata": {},
   "outputs": [],
   "source": [
    "def calculate_descriminant(state:QuadState):\n",
    "    answer=state['b']**2-(4*state['a']*state['c'])\n",
    "\n",
    "    return {'descriminant':answer}"
   ]
  },
  {
   "cell_type": "code",
   "execution_count": 16,
   "id": "59a97281",
   "metadata": {},
   "outputs": [],
   "source": [
    "import math\n",
    "def real_roots(state:QuadState):\n",
    "\n",
    "    root1=(-state['b'] + math.sqrt(state['descriminant']))/2*state['a']\n",
    "\n",
    "    root2=(-state['b'] - math.sqrt(state['descriminant']))/2*state['a']\n",
    "\n",
    "    result=f'The roots are {root1} and {root2}'\n",
    "\n",
    "    return {'result':result}"
   ]
  },
  {
   "cell_type": "code",
   "execution_count": null,
   "id": "210195e6",
   "metadata": {},
   "outputs": [],
   "source": [
    "\n",
    "def repeated_roots(state:QuadState):\n",
    "\n",
    "    root1=(-state['b'])/2*state['a']\n",
    "\n",
    "    result=f'only repeated root {root1}'\n",
    "\n",
    "    return {'result':result}\n"
   ]
  },
  {
   "cell_type": "code",
   "execution_count": 11,
   "id": "6cb84fc8",
   "metadata": {},
   "outputs": [],
   "source": [
    "def no_real_roots(state:QuadState):\n",
    "\n",
    "    result=f'no real roots'\n",
    "\n",
    "    return {'result':result}\n"
   ]
  },
  {
   "cell_type": "code",
   "execution_count": 24,
   "id": "f155782e",
   "metadata": {},
   "outputs": [],
   "source": [
    "def cheack_condition(state:QuadState)->Literal['real_roots','repeated_roots','no_real_roots']:\n",
    "\n",
    "    if state['descriminant']>0:\n",
    "        return 'real_roots'\n",
    "    elif state['descriminant']==0:\n",
    "        return 'repeated_roots'\n",
    "    else:\n",
    "        return 'no_real_roots'"
   ]
  },
  {
   "cell_type": "code",
   "execution_count": 25,
   "id": "3bbab092",
   "metadata": {},
   "outputs": [],
   "source": [
    "graph=StateGraph(QuadState)\n",
    "\n",
    "graph.add_node(\"show_equation\",show_equation)\n",
    "graph.add_node(\"calculate_descriminant\",calculate_descriminant)\n",
    "graph.add_node('real_roots',real_roots)\n",
    "graph.add_node('repeated_roots',repeated_roots)\n",
    "graph.add_node('no_real_roots',no_real_roots)\n",
    "\n",
    "\n",
    "graph.add_edge(START,'show_equation')\n",
    "graph.add_edge('show_equation','calculate_descriminant')\n",
    "graph.add_conditional_edges('calculate_descriminant',cheack_condition)\n",
    "graph.add_edge('real_roots',END)\n",
    "graph.add_edge('repeated_roots',END)\n",
    "graph.add_edge('no_real_roots',END)\n",
    "\n",
    "workflow=graph.compile()"
   ]
  },
  {
   "cell_type": "code",
   "execution_count": 26,
   "id": "5d23c732",
   "metadata": {},
   "outputs": [
    {
     "data": {
      "image/png": "[encoded data removed]",
      "text/plain": [
       "<langgraph.graph.state.CompiledStateGraph object at 0x000002812E9DE850>"
      ]
     },
     "execution_count": 26,
     "metadata": {},
     "output_type": "execute_result"
    }
   ],
   "source": [
    "workflow"
   ]
  },
  {
   "cell_type": "code",
   "execution_count": 27,
   "id": "32c538e6",
   "metadata": {},
   "outputs": [
    {
     "data": {
      "text/plain": [
       "{'a': 2,\n",
       " 'b': 4,\n",
       " 'c': 2,\n",
       " 'equation': '2X^2 + 4X + 2',\n",
       " 'descriminant': 0,\n",
       " 'result': 'only repeated root -4.0'}"
      ]
     },
     "execution_count": 27,
     "metadata": {},
     "output_type": "execute_result"
    }
   ],
   "source": [
    "intial_state={\n",
    "    'a':2,\n",
    "    'b':4,\n",
    "    'c':2\n",
    "}\n",
    "\n",
    "workflow.invoke(intial_state)"
   ]
  },
  {
   "cell_type": "code",
   "execution_count": null,
   "id": "73708768",
   "metadata": {},
   "outputs": [],
   "source": []
  },
  {
   "cell_type": "code",
   "execution_count": null,
   "id": "387159e1",
   "metadata": {},
   "outputs": [],
   "source": []
  }
 ],
 "metadata": {
  "kernelspec": {
   "display_name": "venv",
   "language": "python",
   "name": "python3"
  },
  "language_info": {
   "codemirror_mode": {
    "name": "ipython",
    "version": 3
   },
   "file_extension": ".py",
   "mimetype": "text/x-python",
   "name": "python",
   "nbconvert_exporter": "python",
   "pygments_lexer": "ipython3",
   "version": "3.11.4"
  }
 },
 "nbformat": 4,
 "nbformat_minor": 5
}
