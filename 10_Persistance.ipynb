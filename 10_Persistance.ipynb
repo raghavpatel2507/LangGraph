{
 "cells": [
  {
   "cell_type": "code",
   "execution_count": 7,
   "id": "b03a724d",
   "metadata": {},
   "outputs": [],
   "source": [
    "from langchain_groq import ChatGroq\n",
    "from langgraph.graph import StateGraph,START,END\n",
    "from typing import TypedDict\n",
    "from dotenv import load_dotenv\n",
    "from langgraph.checkpoint.memory import InMemorySaver"
   ]
  },
  {
   "cell_type": "code",
   "execution_count": 2,
   "id": "47532949",
   "metadata": {},
   "outputs": [],
   "source": [
    "load_dotenv()\n",
    "import os\n",
    "GROQ_API_KEY=os.getenv(\"GROQ_API_KEY\")"
   ]
  },
  {
   "cell_type": "code",
   "execution_count": 3,
   "id": "f35ce0de",
   "metadata": {},
   "outputs": [],
   "source": [
    "model=ChatGroq(model=\"llama3-70b-8192\",api_key=GROQ_API_KEY)"
   ]
  },
  {
   "cell_type": "code",
   "execution_count": 4,
   "id": "3193efe5",
   "metadata": {},
   "outputs": [],
   "source": [
    "class JokeState(TypedDict):\n",
    "    topic:str\n",
    "    joke:str\n",
    "    explanation:str"
   ]
  },
  {
   "cell_type": "code",
   "execution_count": 5,
   "id": "5e706fc8",
   "metadata": {},
   "outputs": [],
   "source": [
    "def ganarate_joke(state:JokeState):\n",
    "    prompt=f\"ganarate a joke given toipic-{state['topic']}\"\n",
    "    response=model.invoke(prompt).content\n",
    "\n",
    "    return {'joke':response}"
   ]
  },
  {
   "cell_type": "code",
   "execution_count": 6,
   "id": "1e8e54ac",
   "metadata": {},
   "outputs": [],
   "source": [
    "def ganarate_explanation(state:JokeState):\n",
    "    prompt=f\"write a explanation for the joke - {state['joke']}\"\n",
    "    response=model.invoke(prompt).content\n",
    "\n",
    "    return {'explanation':response}"
   ]
  },
  {
   "cell_type": "code",
   "execution_count": 8,
   "id": "ea3dcd32",
   "metadata": {},
   "outputs": [],
   "source": [
    "graph=StateGraph(JokeState)\n",
    "\n",
    "graph.add_node(\"ganarate_joke\",ganarate_joke)\n",
    "graph.add_node(\"ganarate_explanation\",ganarate_explanation)\n",
    "\n",
    "\n",
    "graph.add_edge(START,\"ganarate_joke\")\n",
    "graph.add_edge('ganarate_joke','ganarate_explanation')\n",
    "graph.add_edge('ganarate_explanation',END)\n",
    "\n",
    "checkpointer=InMemorySaver()\n",
    "\n",
    "workflow=graph.compile(checkpointer=checkpointer)"
   ]
  },
  {
   "cell_type": "code",
   "execution_count": 12,
   "id": "14eac76d",
   "metadata": {},
   "outputs": [
    {
     "data": {
      "text/plain": [
       "{'topic': 'pizza',\n",
       " 'joke': \"Here's a pizza-themed joke:\\n\\nWhy was the pizza in a bad mood?\\n\\nBecause it was feeling a little crusty!\\n\\nHope that made you laugh!\",\n",
       " 'explanation': 'A clever pizza pun!\\n\\nThe joke relies on a play on words to create humor. \"Crusty\" has a double meaning here:\\n\\n1. In the context of pizza, \"crust\" refers to the outer layer of the bread, which is a crucial component of a pizza.\\n2. In everyday language, \"crusty\" can also mean grumpy, irritable, or ill-tempered.\\n\\nThe joke sets up an expectation that the punchline will explain why the pizza is in a bad mood, and then subverts it by using the word \"crusty\" in a way that references both the pizza\\'s crust and a negative emotional state. The humor comes from the unexpected twist on the word\\'s meaning and the clever connection between the setup and the punchline.\\n\\nSo, in essence, the joke is saying that the pizza is in a bad mood because it\\'s feeling grumpy (crusty), but the wordplay creates a clever and amusing connection to the pizza\\'s crust, making it a lighthearted and playful joke.'}"
      ]
     },
     "execution_count": 12,
     "metadata": {},
     "output_type": "execute_result"
    }
   ],
   "source": [
    "config={'configurable':{'thread_id':'1'}}\n",
    "\n",
    "workflow.invoke({\"topic\":'pizza'},config=config)\n"
   ]
  },
  {
   "cell_type": "code",
   "execution_count": 13,
   "id": "0f7d8805",
   "metadata": {},
   "outputs": [
    {
     "data": {
      "text/plain": [
       "StateSnapshot(values={'topic': 'pizza', 'joke': \"Here's a pizza-themed joke:\\n\\nWhy was the pizza in a bad mood?\\n\\nBecause it was feeling a little crusty!\\n\\nHope that made you laugh!\", 'explanation': 'A clever pizza pun!\\n\\nThe joke relies on a play on words to create humor. \"Crusty\" has a double meaning here:\\n\\n1. In the context of pizza, \"crust\" refers to the outer layer of the bread, which is a crucial component of a pizza.\\n2. In everyday language, \"crusty\" can also mean grumpy, irritable, or ill-tempered.\\n\\nThe joke sets up an expectation that the punchline will explain why the pizza is in a bad mood, and then subverts it by using the word \"crusty\" in a way that references both the pizza\\'s crust and a negative emotional state. The humor comes from the unexpected twist on the word\\'s meaning and the clever connection between the setup and the punchline.\\n\\nSo, in essence, the joke is saying that the pizza is in a bad mood because it\\'s feeling grumpy (crusty), but the wordplay creates a clever and amusing connection to the pizza\\'s crust, making it a lighthearted and playful joke.'}, next=(), config={'configurable': {'thread_id': '1', 'checkpoint_ns': '', 'checkpoint_id': '1f071ee0-65d9-64d4-8006-8e5192a70d8d'}}, metadata={'source': 'loop', 'step': 6, 'parents': {}, 'thread_id': '1'}, created_at='2025-08-05T11:19:17.143675+00:00', parent_config={'configurable': {'thread_id': '1', 'checkpoint_ns': '', 'checkpoint_id': '1f071ee0-5918-6209-8005-1deb8d72f970'}}, tasks=(), interrupts=())"
      ]
     },
     "execution_count": 13,
     "metadata": {},
     "output_type": "execute_result"
    }
   ],
   "source": [
    "workflow.get_state(config)"
   ]
  },
  {
   "cell_type": "code",
   "execution_count": 14,
   "id": "da9c4150",
   "metadata": {},
   "outputs": [
    {
     "data": {
      "text/plain": [
       "[StateSnapshot(values={'topic': 'pizza', 'joke': \"Here's a pizza-themed joke:\\n\\nWhy was the pizza in a bad mood?\\n\\nBecause it was feeling a little crusty!\\n\\nHope that made you laugh!\", 'explanation': 'A clever pizza pun!\\n\\nThe joke relies on a play on words to create humor. \"Crusty\" has a double meaning here:\\n\\n1. In the context of pizza, \"crust\" refers to the outer layer of the bread, which is a crucial component of a pizza.\\n2. In everyday language, \"crusty\" can also mean grumpy, irritable, or ill-tempered.\\n\\nThe joke sets up an expectation that the punchline will explain why the pizza is in a bad mood, and then subverts it by using the word \"crusty\" in a way that references both the pizza\\'s crust and a negative emotional state. The humor comes from the unexpected twist on the word\\'s meaning and the clever connection between the setup and the punchline.\\n\\nSo, in essence, the joke is saying that the pizza is in a bad mood because it\\'s feeling grumpy (crusty), but the wordplay creates a clever and amusing connection to the pizza\\'s crust, making it a lighthearted and playful joke.'}, next=(), config={'configurable': {'thread_id': '1', 'checkpoint_ns': '', 'checkpoint_id': '1f071ee0-65d9-64d4-8006-8e5192a70d8d'}}, metadata={'source': 'loop', 'step': 6, 'parents': {}, 'thread_id': '1'}, created_at='2025-08-05T11:19:17.143675+00:00', parent_config={'configurable': {'thread_id': '1', 'checkpoint_ns': '', 'checkpoint_id': '1f071ee0-5918-6209-8005-1deb8d72f970'}}, tasks=(), interrupts=()),\n",
       " StateSnapshot(values={'topic': 'pizza', 'joke': \"Here's a pizza-themed joke:\\n\\nWhy was the pizza in a bad mood?\\n\\nBecause it was feeling a little crusty!\\n\\nHope that made you laugh!\", 'explanation': 'This joke is a play on words, using a pun to create humor. Here\\'s a breakdown of how it works:\\n\\nThe joke starts by setting up a familiar scenario: a pizza going to the doctor. This is an unexpected and silly premise, which already creates a sense of curiosity and playfulness.\\n\\nThe punchline \"Because it was feeling a little crusty!\" is where the joke gets its humor. \"Crusty\" has a double meaning here:\\n\\n* In the context of a pizza, \"crusty\" refers to the crispy, crunchy exterior of the bread. It\\'s a characteristic that\\'s often associated with a well-made pizza.\\n* In a more general sense, \"crusty\" can also mean feeling irritable, grumpy, or out of sorts. This is the sense in which the pizza is \"feeling a little crusty\" and needs to go to the doctor.\\n\\nThe joke relies on the unexpected twist on the word \"crusty\", moving from the literal meaning (the pizza\\'s crust) to the figurative meaning (feeling grumpy). The wordplay creates a sense of surprise and delight, making the joke amusing and saucy (pun intended!).\\n\\nOverall, the joke uses a clever play on words to create a lighthearted and humorous effect. It\\'s a fun and silly way to poke fun at the idea of a pizza having feelings and going to the doctor, and the wordplay adds an extra layer of cleverness and creativity to the joke.'}, next=('ganarate_explanation',), config={'configurable': {'thread_id': '1', 'checkpoint_ns': '', 'checkpoint_id': '1f071ee0-5918-6209-8005-1deb8d72f970'}}, metadata={'source': 'loop', 'step': 5, 'parents': {}, 'thread_id': '1'}, created_at='2025-08-05T11:19:15.806260+00:00', parent_config={'configurable': {'thread_id': '1', 'checkpoint_ns': '', 'checkpoint_id': '1f071ee0-51c5-64ac-8004-4ae7c9c78ddb'}}, tasks=(PregelTask(id='de517385-e021-79a0-0458-104be44266de', name='ganarate_explanation', path=('__pregel_pull', 'ganarate_explanation'), error=None, interrupts=(), state=None, result={'explanation': 'A clever pizza pun!\\n\\nThe joke relies on a play on words to create humor. \"Crusty\" has a double meaning here:\\n\\n1. In the context of pizza, \"crust\" refers to the outer layer of the bread, which is a crucial component of a pizza.\\n2. In everyday language, \"crusty\" can also mean grumpy, irritable, or ill-tempered.\\n\\nThe joke sets up an expectation that the punchline will explain why the pizza is in a bad mood, and then subverts it by using the word \"crusty\" in a way that references both the pizza\\'s crust and a negative emotional state. The humor comes from the unexpected twist on the word\\'s meaning and the clever connection between the setup and the punchline.\\n\\nSo, in essence, the joke is saying that the pizza is in a bad mood because it\\'s feeling grumpy (crusty), but the wordplay creates a clever and amusing connection to the pizza\\'s crust, making it a lighthearted and playful joke.'}),), interrupts=()),\n",
       " StateSnapshot(values={'topic': 'pizza', 'joke': \"Here's a pizza-themed joke:\\n\\nWhy did the pizza go to the doctor?\\n\\nBecause it was feeling a little crusty!\\n\\nHope you found that one saucy and amusing!\", 'explanation': 'This joke is a play on words, using a pun to create humor. Here\\'s a breakdown of how it works:\\n\\nThe joke starts by setting up a familiar scenario: a pizza going to the doctor. This is an unexpected and silly premise, which already creates a sense of curiosity and playfulness.\\n\\nThe punchline \"Because it was feeling a little crusty!\" is where the joke gets its humor. \"Crusty\" has a double meaning here:\\n\\n* In the context of a pizza, \"crusty\" refers to the crispy, crunchy exterior of the bread. It\\'s a characteristic that\\'s often associated with a well-made pizza.\\n* In a more general sense, \"crusty\" can also mean feeling irritable, grumpy, or out of sorts. This is the sense in which the pizza is \"feeling a little crusty\" and needs to go to the doctor.\\n\\nThe joke relies on the unexpected twist on the word \"crusty\", moving from the literal meaning (the pizza\\'s crust) to the figurative meaning (feeling grumpy). The wordplay creates a sense of surprise and delight, making the joke amusing and saucy (pun intended!).\\n\\nOverall, the joke uses a clever play on words to create a lighthearted and humorous effect. It\\'s a fun and silly way to poke fun at the idea of a pizza having feelings and going to the doctor, and the wordplay adds an extra layer of cleverness and creativity to the joke.'}, next=('ganarate_joke',), config={'configurable': {'thread_id': '1', 'checkpoint_ns': '', 'checkpoint_id': '1f071ee0-51c5-64ac-8004-4ae7c9c78ddb'}}, metadata={'source': 'loop', 'step': 4, 'parents': {}, 'thread_id': '1'}, created_at='2025-08-05T11:19:15.038327+00:00', parent_config={'configurable': {'thread_id': '1', 'checkpoint_ns': '', 'checkpoint_id': '1f071ee0-51c2-6aa3-8003-0cd61e67e78e'}}, tasks=(PregelTask(id='86122000-96e4-6850-e9cb-4a6ef7dcb402', name='ganarate_joke', path=('__pregel_pull', 'ganarate_joke'), error=None, interrupts=(), state=None, result={'joke': \"Here's a pizza-themed joke:\\n\\nWhy was the pizza in a bad mood?\\n\\nBecause it was feeling a little crusty!\\n\\nHope that made you laugh!\"}),), interrupts=()),\n",
       " StateSnapshot(values={'topic': 'pizza', 'joke': \"Here's a pizza-themed joke:\\n\\nWhy did the pizza go to the doctor?\\n\\nBecause it was feeling a little crusty!\\n\\nHope you found that one saucy and amusing!\", 'explanation': 'This joke is a play on words, using a pun to create humor. Here\\'s a breakdown of how it works:\\n\\nThe joke starts by setting up a familiar scenario: a pizza going to the doctor. This is an unexpected and silly premise, which already creates a sense of curiosity and playfulness.\\n\\nThe punchline \"Because it was feeling a little crusty!\" is where the joke gets its humor. \"Crusty\" has a double meaning here:\\n\\n* In the context of a pizza, \"crusty\" refers to the crispy, crunchy exterior of the bread. It\\'s a characteristic that\\'s often associated with a well-made pizza.\\n* In a more general sense, \"crusty\" can also mean feeling irritable, grumpy, or out of sorts. This is the sense in which the pizza is \"feeling a little crusty\" and needs to go to the doctor.\\n\\nThe joke relies on the unexpected twist on the word \"crusty\", moving from the literal meaning (the pizza\\'s crust) to the figurative meaning (feeling grumpy). The wordplay creates a sense of surprise and delight, making the joke amusing and saucy (pun intended!).\\n\\nOverall, the joke uses a clever play on words to create a lighthearted and humorous effect. It\\'s a fun and silly way to poke fun at the idea of a pizza having feelings and going to the doctor, and the wordplay adds an extra layer of cleverness and creativity to the joke.'}, next=('__start__',), config={'configurable': {'thread_id': '1', 'checkpoint_ns': '', 'checkpoint_id': '1f071ee0-51c2-6aa3-8003-0cd61e67e78e'}}, metadata={'source': 'input', 'step': 3, 'parents': {}, 'thread_id': '1'}, created_at='2025-08-05T11:19:15.037251+00:00', parent_config={'configurable': {'thread_id': '1', 'checkpoint_ns': '', 'checkpoint_id': '1f071ede-518c-6fcf-8002-9b21d2bf1cc1'}}, tasks=(PregelTask(id='84e6b8ca-013d-c7bc-5163-8a7bc72aad90', name='__start__', path=('__pregel_pull', '__start__'), error=None, interrupts=(), state=None, result={'topic': 'pizza'}),), interrupts=()),\n",
       " StateSnapshot(values={'topic': 'pizza', 'joke': \"Here's a pizza-themed joke:\\n\\nWhy did the pizza go to the doctor?\\n\\nBecause it was feeling a little crusty!\\n\\nHope you found that one saucy and amusing!\", 'explanation': 'This joke is a play on words, using a pun to create humor. Here\\'s a breakdown of how it works:\\n\\nThe joke starts by setting up a familiar scenario: a pizza going to the doctor. This is an unexpected and silly premise, which already creates a sense of curiosity and playfulness.\\n\\nThe punchline \"Because it was feeling a little crusty!\" is where the joke gets its humor. \"Crusty\" has a double meaning here:\\n\\n* In the context of a pizza, \"crusty\" refers to the crispy, crunchy exterior of the bread. It\\'s a characteristic that\\'s often associated with a well-made pizza.\\n* In a more general sense, \"crusty\" can also mean feeling irritable, grumpy, or out of sorts. This is the sense in which the pizza is \"feeling a little crusty\" and needs to go to the doctor.\\n\\nThe joke relies on the unexpected twist on the word \"crusty\", moving from the literal meaning (the pizza\\'s crust) to the figurative meaning (feeling grumpy). The wordplay creates a sense of surprise and delight, making the joke amusing and saucy (pun intended!).\\n\\nOverall, the joke uses a clever play on words to create a lighthearted and humorous effect. It\\'s a fun and silly way to poke fun at the idea of a pizza having feelings and going to the doctor, and the wordplay adds an extra layer of cleverness and creativity to the joke.'}, next=(), config={'configurable': {'thread_id': '1', 'checkpoint_ns': '', 'checkpoint_id': '1f071ede-518c-6fcf-8002-9b21d2bf1cc1'}}, metadata={'source': 'loop', 'step': 2, 'parents': {}, 'thread_id': '1'}, created_at='2025-08-05T11:18:21.328174+00:00', parent_config={'configurable': {'thread_id': '1', 'checkpoint_ns': '', 'checkpoint_id': '1f071ede-4178-66fe-8001-eb67b0cbc7a1'}}, tasks=(), interrupts=()),\n",
       " StateSnapshot(values={'topic': 'pizza', 'joke': \"Here's a pizza-themed joke:\\n\\nWhy did the pizza go to the doctor?\\n\\nBecause it was feeling a little crusty!\\n\\nHope you found that one saucy and amusing!\"}, next=('ganarate_explanation',), config={'configurable': {'thread_id': '1', 'checkpoint_ns': '', 'checkpoint_id': '1f071ede-4178-66fe-8001-eb67b0cbc7a1'}}, metadata={'source': 'loop', 'step': 1, 'parents': {}, 'thread_id': '1'}, created_at='2025-08-05T11:18:19.642035+00:00', parent_config={'configurable': {'thread_id': '1', 'checkpoint_ns': '', 'checkpoint_id': '1f071ede-34f1-62f9-8000-e1656b05cf3a'}}, tasks=(PregelTask(id='aea40da8-f1a9-8a6b-b061-3c0006da4071', name='ganarate_explanation', path=('__pregel_pull', 'ganarate_explanation'), error=None, interrupts=(), state=None, result={'explanation': 'This joke is a play on words, using a pun to create humor. Here\\'s a breakdown of how it works:\\n\\nThe joke starts by setting up a familiar scenario: a pizza going to the doctor. This is an unexpected and silly premise, which already creates a sense of curiosity and playfulness.\\n\\nThe punchline \"Because it was feeling a little crusty!\" is where the joke gets its humor. \"Crusty\" has a double meaning here:\\n\\n* In the context of a pizza, \"crusty\" refers to the crispy, crunchy exterior of the bread. It\\'s a characteristic that\\'s often associated with a well-made pizza.\\n* In a more general sense, \"crusty\" can also mean feeling irritable, grumpy, or out of sorts. This is the sense in which the pizza is \"feeling a little crusty\" and needs to go to the doctor.\\n\\nThe joke relies on the unexpected twist on the word \"crusty\", moving from the literal meaning (the pizza\\'s crust) to the figurative meaning (feeling grumpy). The wordplay creates a sense of surprise and delight, making the joke amusing and saucy (pun intended!).\\n\\nOverall, the joke uses a clever play on words to create a lighthearted and humorous effect. It\\'s a fun and silly way to poke fun at the idea of a pizza having feelings and going to the doctor, and the wordplay adds an extra layer of cleverness and creativity to the joke.'}),), interrupts=()),\n",
       " StateSnapshot(values={'topic': 'pizza'}, next=('ganarate_joke',), config={'configurable': {'thread_id': '1', 'checkpoint_ns': '', 'checkpoint_id': '1f071ede-34f1-62f9-8000-e1656b05cf3a'}}, metadata={'source': 'loop', 'step': 0, 'parents': {}, 'thread_id': '1'}, created_at='2025-08-05T11:18:18.328344+00:00', parent_config={'configurable': {'thread_id': '1', 'checkpoint_ns': '', 'checkpoint_id': '1f071ede-34ec-64e0-bfff-df4e643f8314'}}, tasks=(PregelTask(id='fa76399b-c877-9345-41f4-304db6ef7d97', name='ganarate_joke', path=('__pregel_pull', 'ganarate_joke'), error=None, interrupts=(), state=None, result={'joke': \"Here's a pizza-themed joke:\\n\\nWhy did the pizza go to the doctor?\\n\\nBecause it was feeling a little crusty!\\n\\nHope you found that one saucy and amusing!\"}),), interrupts=()),\n",
       " StateSnapshot(values={}, next=('__start__',), config={'configurable': {'thread_id': '1', 'checkpoint_ns': '', 'checkpoint_id': '1f071ede-34ec-64e0-bfff-df4e643f8314'}}, metadata={'source': 'input', 'step': -1, 'parents': {}, 'thread_id': '1'}, created_at='2025-08-05T11:18:18.326345+00:00', parent_config=None, tasks=(PregelTask(id='8996ed33-80d0-6643-b6b1-56fc9ef8c143', name='__start__', path=('__pregel_pull', '__start__'), error=None, interrupts=(), state=None, result={'topic': 'pizza'}),), interrupts=())]"
      ]
     },
     "execution_count": 14,
     "metadata": {},
     "output_type": "execute_result"
    }
   ],
   "source": [
    "list(workflow.get_state_history(config))"
   ]
  },
  {
   "cell_type": "code",
   "execution_count": 17,
   "id": "588bd959",
   "metadata": {},
   "outputs": [
    {
     "data": {
      "text/plain": [
       "{'topic': 'pasta',\n",
       " 'joke': 'A pasta joke! Here\\'s one:\\n\\nWhy did the spaghetti go to therapy?\\n\\nBecause it was feeling a little \"twisted\" and needed to work through some \"noodly\" issues!\\n\\nHope that made you laugh!',\n",
       " 'explanation': 'A delicious joke! Let\\'s break it down:\\n\\nThe joke is a play on words, using the characteristics of spaghetti to create a pun-filled punchline. Here\\'s how it works:\\n\\n* \"Twisted\" has a double meaning: spaghetti is a twisted, curly type of pasta, but \"twisted\" can also mean emotionally disturbed or confused, which is a common reason people might seek therapy.\\n* \"Noodly\" is a made-up word that sounds similar to \"nervously\" or \"needy,\" implying that the spaghetti has emotional issues to work through. However, \"noodly\" is also a reference to the fact that spaghetti is a type of noodle.\\n\\nSo, the joke is saying that the spaghetti is feeling emotionally \"twisted\" (confused or disturbed) and needs to work through some \"noodly\" (emotional) issues in therapy. It\\'s a lighthearted and silly joke that uses wordplay to create humor. The use of a relatable scenario (going to therapy) and a clever twist on words makes it a fun and playful joke that\\'s likely to bring a smile to your face!'}"
      ]
     },
     "execution_count": 17,
     "metadata": {},
     "output_type": "execute_result"
    }
   ],
   "source": [
    "config2={'configurable':{'thread_id':'2'}}\n",
    "\n",
    "workflow.invoke({\"topic\":'pasta'},config=config2)\n"
   ]
  },
  {
   "cell_type": "code",
   "execution_count": 18,
   "id": "373fb345",
   "metadata": {},
   "outputs": [
    {
     "data": {
      "text/plain": [
       "StateSnapshot(values={'topic': 'pasta', 'joke': 'A pasta joke! Here\\'s one:\\n\\nWhy did the spaghetti go to therapy?\\n\\nBecause it was feeling a little \"twisted\" and needed to work through some \"noodly\" issues!\\n\\nHope that made you laugh!', 'explanation': 'A delicious joke! Let\\'s break it down:\\n\\nThe joke is a play on words, using the characteristics of spaghetti to create a pun-filled punchline. Here\\'s how it works:\\n\\n* \"Twisted\" has a double meaning: spaghetti is a twisted, curly type of pasta, but \"twisted\" can also mean emotionally disturbed or confused, which is a common reason people might seek therapy.\\n* \"Noodly\" is a made-up word that sounds similar to \"nervously\" or \"needy,\" implying that the spaghetti has emotional issues to work through. However, \"noodly\" is also a reference to the fact that spaghetti is a type of noodle.\\n\\nSo, the joke is saying that the spaghetti is feeling emotionally \"twisted\" (confused or disturbed) and needs to work through some \"noodly\" (emotional) issues in therapy. It\\'s a lighthearted and silly joke that uses wordplay to create humor. The use of a relatable scenario (going to therapy) and a clever twist on words makes it a fun and playful joke that\\'s likely to bring a smile to your face!'}, next=(), config={'configurable': {'thread_id': '2', 'checkpoint_ns': '', 'checkpoint_id': '1f071ee8-725d-645d-8002-e587d7e09908'}}, metadata={'source': 'loop', 'step': 2, 'parents': {}, 'thread_id': '2'}, created_at='2025-08-05T11:22:53.204386+00:00', parent_config={'configurable': {'thread_id': '2', 'checkpoint_ns': '', 'checkpoint_id': '1f071ee8-63ba-6e47-8001-a8c12af1840e'}}, tasks=(), interrupts=())"
      ]
     },
     "execution_count": 18,
     "metadata": {},
     "output_type": "execute_result"
    }
   ],
   "source": [
    "workflow.get_state(config2)"
   ]
  },
  {
   "cell_type": "code",
   "execution_count": 19,
   "id": "5b4bdb52",
   "metadata": {},
   "outputs": [
    {
     "data": {
      "text/plain": [
       "[StateSnapshot(values={'topic': 'pasta', 'joke': 'A pasta joke! Here\\'s one:\\n\\nWhy did the spaghetti go to therapy?\\n\\nBecause it was feeling a little \"twisted\" and needed to work through some \"noodly\" issues!\\n\\nHope that made you laugh!', 'explanation': 'A delicious joke! Let\\'s break it down:\\n\\nThe joke is a play on words, using the characteristics of spaghetti to create a pun-filled punchline. Here\\'s how it works:\\n\\n* \"Twisted\" has a double meaning: spaghetti is a twisted, curly type of pasta, but \"twisted\" can also mean emotionally disturbed or confused, which is a common reason people might seek therapy.\\n* \"Noodly\" is a made-up word that sounds similar to \"nervously\" or \"needy,\" implying that the spaghetti has emotional issues to work through. However, \"noodly\" is also a reference to the fact that spaghetti is a type of noodle.\\n\\nSo, the joke is saying that the spaghetti is feeling emotionally \"twisted\" (confused or disturbed) and needs to work through some \"noodly\" (emotional) issues in therapy. It\\'s a lighthearted and silly joke that uses wordplay to create humor. The use of a relatable scenario (going to therapy) and a clever twist on words makes it a fun and playful joke that\\'s likely to bring a smile to your face!'}, next=(), config={'configurable': {'thread_id': '2', 'checkpoint_ns': '', 'checkpoint_id': '1f071ee8-725d-645d-8002-e587d7e09908'}}, metadata={'source': 'loop', 'step': 2, 'parents': {}, 'thread_id': '2'}, created_at='2025-08-05T11:22:53.204386+00:00', parent_config={'configurable': {'thread_id': '2', 'checkpoint_ns': '', 'checkpoint_id': '1f071ee8-63ba-6e47-8001-a8c12af1840e'}}, tasks=(), interrupts=()),\n",
       " StateSnapshot(values={'topic': 'pasta', 'joke': 'A pasta joke! Here\\'s one:\\n\\nWhy did the spaghetti go to therapy?\\n\\nBecause it was feeling a little \"twisted\" and needed to work through some \"noodly\" issues!\\n\\nHope that made you laugh!'}, next=('ganarate_explanation',), config={'configurable': {'thread_id': '2', 'checkpoint_ns': '', 'checkpoint_id': '1f071ee8-63ba-6e47-8001-a8c12af1840e'}}, metadata={'source': 'loop', 'step': 1, 'parents': {}, 'thread_id': '2'}, created_at='2025-08-05T11:22:51.669869+00:00', parent_config={'configurable': {'thread_id': '2', 'checkpoint_ns': '', 'checkpoint_id': '1f071ee8-58e6-67b2-8000-a0e1d62d7d28'}}, tasks=(PregelTask(id='6ae04eda-b6fa-f987-c3cb-b097c7b432c0', name='ganarate_explanation', path=('__pregel_pull', 'ganarate_explanation'), error=None, interrupts=(), state=None, result={'explanation': 'A delicious joke! Let\\'s break it down:\\n\\nThe joke is a play on words, using the characteristics of spaghetti to create a pun-filled punchline. Here\\'s how it works:\\n\\n* \"Twisted\" has a double meaning: spaghetti is a twisted, curly type of pasta, but \"twisted\" can also mean emotionally disturbed or confused, which is a common reason people might seek therapy.\\n* \"Noodly\" is a made-up word that sounds similar to \"nervously\" or \"needy,\" implying that the spaghetti has emotional issues to work through. However, \"noodly\" is also a reference to the fact that spaghetti is a type of noodle.\\n\\nSo, the joke is saying that the spaghetti is feeling emotionally \"twisted\" (confused or disturbed) and needs to work through some \"noodly\" (emotional) issues in therapy. It\\'s a lighthearted and silly joke that uses wordplay to create humor. The use of a relatable scenario (going to therapy) and a clever twist on words makes it a fun and playful joke that\\'s likely to bring a smile to your face!'}),), interrupts=()),\n",
       " StateSnapshot(values={'topic': 'pasta'}, next=('ganarate_joke',), config={'configurable': {'thread_id': '2', 'checkpoint_ns': '', 'checkpoint_id': '1f071ee8-58e6-67b2-8000-a0e1d62d7d28'}}, metadata={'source': 'loop', 'step': 0, 'parents': {}, 'thread_id': '2'}, created_at='2025-08-05T11:22:50.534289+00:00', parent_config={'configurable': {'thread_id': '2', 'checkpoint_ns': '', 'checkpoint_id': '1f071ee8-58e3-6900-bfff-1c21eaf05fb9'}}, tasks=(PregelTask(id='ee5ecf8d-8889-c5a8-f3cd-e0a53ea5a331', name='ganarate_joke', path=('__pregel_pull', 'ganarate_joke'), error=None, interrupts=(), state=None, result={'joke': 'A pasta joke! Here\\'s one:\\n\\nWhy did the spaghetti go to therapy?\\n\\nBecause it was feeling a little \"twisted\" and needed to work through some \"noodly\" issues!\\n\\nHope that made you laugh!'}),), interrupts=()),\n",
       " StateSnapshot(values={}, next=('__start__',), config={'configurable': {'thread_id': '2', 'checkpoint_ns': '', 'checkpoint_id': '1f071ee8-58e3-6900-bfff-1c21eaf05fb9'}}, metadata={'source': 'input', 'step': -1, 'parents': {}, 'thread_id': '2'}, created_at='2025-08-05T11:22:50.533094+00:00', parent_config=None, tasks=(PregelTask(id='773f5bee-bb4d-f388-42a7-c0418349c3ce', name='__start__', path=('__pregel_pull', '__start__'), error=None, interrupts=(), state=None, result={'topic': 'pasta'}),), interrupts=())]"
      ]
     },
     "execution_count": 19,
     "metadata": {},
     "output_type": "execute_result"
    }
   ],
   "source": [
    "list(workflow.get_state_history(config2))"
   ]
  },
  {
   "cell_type": "code",
   "execution_count": null,
   "id": "57adab41",
   "metadata": {},
   "outputs": [],
   "source": []
  }
 ],
 "metadata": {
  "kernelspec": {
   "display_name": "venv",
   "language": "python",
   "name": "python3"
  },
  "language_info": {
   "codemirror_mode": {
    "name": "ipython",
    "version": 3
   },
   "file_extension": ".py",
   "mimetype": "text/x-python",
   "name": "python",
   "nbconvert_exporter": "python",
   "pygments_lexer": "ipython3",
   "version": "3.11.4"
  }
 },
 "nbformat": 4,
 "nbformat_minor": 5
}
