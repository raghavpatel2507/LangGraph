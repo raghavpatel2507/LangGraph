{
 "cells": [
  {
   "cell_type": "code",
   "execution_count": 8,
   "id": "18bc53d5",
   "metadata": {},
   "outputs": [],
   "source": [
    "from langgraph.graph import StateGraph,START,END\n",
    "from typing import TypedDict"
   ]
  },
  {
   "cell_type": "code",
   "execution_count": 6,
   "id": "548ae9d6",
   "metadata": {},
   "outputs": [],
   "source": [
    "class BatsmenState(TypedDict):\n",
    "    runs:int\n",
    "    balls:int\n",
    "    fours:int\n",
    "    sixes:int\n",
    "    sr:float\n",
    "    bpb:float\n",
    "    boundry_per:float\n",
    "    summary:str"
   ]
  },
  {
   "cell_type": "code",
   "execution_count": 17,
   "id": "acfe8f93",
   "metadata": {},
   "outputs": [],
   "source": [
    "def calculate_sr(state:BatsmenState):\n",
    "    sr=(state['runs']/state['balls'])*100\n",
    "\n",
    "    return {'sr':sr}"
   ]
  },
  {
   "cell_type": "code",
   "execution_count": 12,
   "id": "966c0ce7",
   "metadata": {},
   "outputs": [],
   "source": [
    "def calculate_bpb(state:BatsmenState):\n",
    "    bpb=state['balls']/(state['fours']+state['sixes'])\n",
    "\n",
    "    return {'bpb':bpb}"
   ]
  },
  {
   "cell_type": "code",
   "execution_count": 21,
   "id": "5932ce28",
   "metadata": {},
   "outputs": [],
   "source": [
    "def calculate_boundry_per(state:BatsmenState):\n",
    "    boundry_per=(((state['fours']*4)+(state['sixes']*6))/state['runs'])*100\n",
    "    return {'boundry_per':boundry_per}"
   ]
  },
  {
   "cell_type": "code",
   "execution_count": 22,
   "id": "ad828df3",
   "metadata": {},
   "outputs": [],
   "source": [
    "def summary(state:BatsmenState):\n",
    "    summary=f\"\"\"\n",
    "strike rate -{state['sr']}\\n\n",
    "Balls per boundry- {state['bpb']}\\ng\n",
    "Boundry percenrage -{state['boundry_per']}\n",
    "\"\"\"\n",
    "    return {'summary':summary}"
   ]
  },
  {
   "cell_type": "code",
   "execution_count": 23,
   "id": "b7a58b38",
   "metadata": {},
   "outputs": [],
   "source": [
    "graph=StateGraph(BatsmenState)\n",
    "\n",
    "graph.add_node(\"calculate_sr\",calculate_sr)\n",
    "graph.add_node(\"calculate_bpb\",calculate_bpb)\n",
    "graph.add_node(\"calculate_boundry_per\",calculate_boundry_per)\n",
    "graph.add_node(\"Summary\",summary)\n",
    "\n",
    "#edges\n",
    "graph.add_edge(START,'calculate_sr')\n",
    "graph.add_edge(START,'calculate_bpb')\n",
    "graph.add_edge(START,'calculate_boundry_per')\n",
    "\n",
    "\n",
    "graph.add_edge('calculate_sr','Summary')\n",
    "graph.add_edge('calculate_bpb','Summary')\n",
    "graph.add_edge('calculate_boundry_per','Summary')\n",
    "\n",
    "workflow=graph.compile()"
   ]
  },
  {
   "cell_type": "code",
   "execution_count": 24,
   "id": "321f35ce",
   "metadata": {},
   "outputs": [
    {
     "data": {
      "image/png": "[encoded data removed]",
      "text/plain": [
       "<langgraph.graph.state.CompiledStateGraph object at 0x000002372912FD50>"
      ]
     },
     "execution_count": 24,
     "metadata": {},
     "output_type": "execute_result"
    }
   ],
   "source": [
    "workflow"
   ]
  },
  {
   "cell_type": "code",
   "execution_count": 25,
   "id": "b180575b",
   "metadata": {},
   "outputs": [
    {
     "name": "stdout",
     "output_type": "stream",
     "text": [
      "{'runs': 100, 'balls': 50, 'fours': 4, 'sixes': 5, 'sr': 200.0, 'bpb': 5.555555555555555, 'boundry_per': 46.0, 'summary': '\\nstrike rate -200.0\\n\\nBalls per boundry- 5.555555555555555\\ng\\nBoundry percenrage -46.0\\n'}\n"
     ]
    }
   ],
   "source": [
    "initial_state={'runs':100,\n",
    "               'balls':50,\n",
    "               'fours':4,\n",
    "               \"sixes\":5}\n",
    "\n",
    "final_out=workflow.invoke(initial_state)\n",
    "\n",
    "print(final_out)\n"
   ]
  },
  {
   "cell_type": "code",
   "execution_count": null,
   "id": "639ed361",
   "metadata": {},
   "outputs": [],
   "source": []
  },
  {
   "cell_type": "code",
   "execution_count": null,
   "id": "0d52af3a",
   "metadata": {},
   "outputs": [],
   "source": []
  }
 ],
 "metadata": {
  "kernelspec": {
   "display_name": "venv",
   "language": "python",
   "name": "python3"
  },
  "language_info": {
   "codemirror_mode": {
    "name": "ipython",
    "version": 3
   },
   "file_extension": ".py",
   "mimetype": "text/x-python",
   "name": "python",
   "nbconvert_exporter": "python",
   "pygments_lexer": "ipython3",
   "version": "3.11.4"
  }
 },
 "nbformat": 4,
 "nbformat_minor": 5
}
