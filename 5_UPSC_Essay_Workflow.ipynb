{
 "cells": [
  {
   "cell_type": "code",
   "execution_count": 1,
   "id": "37799833",
   "metadata": {},
   "outputs": [],
   "source": [
    "from langchain_groq import ChatGroq\n",
    "from langgraph.graph import StateGraph,START,END\n",
    "from typing import TypedDict,Annotated\n",
    "from dotenv import load_dotenv\n",
    "from pydantic import BaseModel,Field\n",
    "import operator"
   ]
  },
  {
   "cell_type": "code",
   "execution_count": 2,
   "id": "11b77e3b",
   "metadata": {},
   "outputs": [],
   "source": [
    "load_dotenv()\n",
    "import os"
   ]
  },
  {
   "cell_type": "code",
   "execution_count": 3,
   "id": "18458821",
   "metadata": {},
   "outputs": [],
   "source": [
    "GROQ_API_KEY=os.getenv(\"GROQ_API_KEY\")\n",
    "model=ChatGroq(model=\"llama3-70b-8192\",api_key=GROQ_API_KEY)"
   ]
  },
  {
   "cell_type": "code",
   "execution_count": 4,
   "id": "536aa20f",
   "metadata": {},
   "outputs": [],
   "source": [
    "class EvalutionScema(BaseModel):\n",
    "    feedback:str=Field(description='Deatailed Feedback for eassy')\n",
    "    score: int=Field(description='Score out of 10',ge=0,le=10)"
   ]
  },
  {
   "cell_type": "code",
   "execution_count": 5,
   "id": "fcc56cdc",
   "metadata": {},
   "outputs": [],
   "source": [
    "structured_model=model.with_structured_output(EvalutionScema)"
   ]
  },
  {
   "cell_type": "code",
   "execution_count": 6,
   "id": "14c8cf78",
   "metadata": {},
   "outputs": [],
   "source": [
    "eassy=\"\"\"Artificial Intelligence (AI) is transforming the world, and India is no exception. With its vast population, growing digital infrastructure, and thriving technology sector, India is uniquely positioned to leverage AI for economic growth, social development, and governance. AI is no longer a futuristic concept—it is already influencing healthcare, agriculture, education, finance, and even public administration in India.\n",
    "\n",
    "1. AI in Governance and Public Services\n",
    "The Indian government is using AI to improve citizen services and governance. For example, AI-powered chatbots are helping citizens access government schemes easily, while facial recognition systems are being used for security and identification. Projects like Digital India and the National AI Strategy (AI for All) aim to make AI accessible for inclusive growth.\n",
    "\n",
    "2. AI in Healthcare\n",
    "AI is helping doctors diagnose diseases faster, improve treatment plans, and predict health risks. During the COVID-19 pandemic, AI-based models were used for contact tracing and vaccine distribution planning. Telemedicine platforms with AI chatbots are making healthcare more affordable and accessible in rural areas.\n",
    "\n",
    "3. AI in Agriculture\n",
    "Agriculture remains the backbone of India’s economy, and AI is improving productivity. AI-driven drones and satellite imagery help farmers monitor crop health, detect pests, and optimize irrigation. Predictive analytics also helps farmers make better decisions about sowing and harvesting.\n",
    "\n",
    "4. AI in Education\n",
    "AI is personalizing learning experiences for students. Adaptive learning platforms provide customized lessons, while language translation tools help break barriers in India’s multilingual education system. AI tutors and chatbots are assisting teachers and students in remote areas.\n",
    "\n",
    "5. AI in Industry and Economy\n",
    "AI is driving automation in manufacturing, logistics, and financial services. It helps businesses analyze large datasets, improve customer service, and detect fraud. Indian startups are increasingly adopting AI to create innovative solutions, boosting the digital economy.\n",
    "\n",
    "6. Challenges of AI in India\n",
    "Despite its benefits, AI adoption in India faces challenges like lack of skilled workforce, inadequate data infrastructure, and ethical concerns regarding privacy and job displacement. To fully harness AI, India must invest in education, research, and policy frameworks.\n",
    "\n",
    "Conclusion\n",
    "AI has immense potential to transform India’s economy and society. From smart governance to precision farming, from improving healthcare to making education accessible, AI can bridge gaps and create opportunities for millions. However, to ensure inclusive growth, India must balance innovation with ethics and create policies that make AI beneficial for all.\n",
    "\n",
    "In the future, AI will not just be a technological tool but a key driver of India’s journey towards becoming a global leader in the digital era.\"\"\""
   ]
  },
  {
   "cell_type": "code",
   "execution_count": 7,
   "id": "327af217",
   "metadata": {},
   "outputs": [],
   "source": [
    "prompt=f\"evaluate the language quality of the following  eaasy and provide a feedback a assign a score out of 10 \\n {eassy}\"\n",
    "answer=structured_model.invoke(prompt)"
   ]
  },
  {
   "cell_type": "code",
   "execution_count": 8,
   "id": "3350066c",
   "metadata": {},
   "outputs": [
    {
     "data": {
      "text/plain": [
       "EvalutionScema(feedback='The language quality of the essay is excellent. The writer has demonstrated a clear understanding of the topic and has presented a well-structured and coherent argument. The use of transitions and connectors is effective in linking the different paragraphs together. The language is formal and academic, and the vocabulary is rich and varied. The writer has also provided relevant examples and evidence to support their claims.', score=9)"
      ]
     },
     "execution_count": 8,
     "metadata": {},
     "output_type": "execute_result"
    }
   ],
   "source": [
    "answer"
   ]
  },
  {
   "cell_type": "markdown",
   "id": "d9fa2c8b",
   "metadata": {},
   "source": [
    "# Workflows-UPSC"
   ]
  },
  {
   "cell_type": "code",
   "execution_count": 9,
   "id": "04bae59e",
   "metadata": {},
   "outputs": [],
   "source": [
    "class UPSCState(TypedDict):\n",
    "    eassy:str\n",
    "    language_feedback:str\n",
    "    analysis_feedback:str\n",
    "    clarrity_feedback:str\n",
    "    overall_feedback:str\n",
    "    individual_scores:Annotated[list[int],operator.add]\n",
    "    avg_score:float\n"
   ]
  },
  {
   "cell_type": "code",
   "execution_count": 10,
   "id": "7ec743d6",
   "metadata": {},
   "outputs": [],
   "source": [
    "def evaluate_language(state:UPSCState):\n",
    "    prompt=f\"evaluate the language quality of the following  eaasy and provide a feedback a assign a score out of 10 \\n {state['eassy']}\"\n",
    "    output=structured_model.invoke(prompt)\n",
    "\n",
    "    return {'language_feedback':output.feedback,'individual_scores':[output.score]}"
   ]
  },
  {
   "cell_type": "code",
   "execution_count": 11,
   "id": "6e80215b",
   "metadata": {},
   "outputs": [],
   "source": [
    "def evaluate_analysis(state:UPSCState):\n",
    "    prompt=f\"evaluate the deapth of analysis of the following  eaasy and provide a feedback a assign a score out of 10 \\n {state['eassy']}\"\n",
    "    output=structured_model.invoke(prompt)\n",
    "\n",
    "    return {'analysis_feedback':output.feedback,'individual_scores':[output.score]}"
   ]
  },
  {
   "cell_type": "code",
   "execution_count": 12,
   "id": "d24ec599",
   "metadata": {},
   "outputs": [],
   "source": [
    "def evaluate_clarity(state:UPSCState):\n",
    "    prompt=f\"evaluate the clarity of thought of the following  eaasy and provide a feedback a assign a score out of 10 \\n {state['eassy']}\"\n",
    "    output=structured_model.invoke(prompt)\n",
    "\n",
    "    return {'clarrity_feedback':output.feedback,'individual_scores':[output.score]}"
   ]
  },
  {
   "cell_type": "code",
   "execution_count": 20,
   "id": "b3612a8f",
   "metadata": {},
   "outputs": [],
   "source": [
    "def final_evaluation(state: UPSCState):\n",
    "\n",
    "    # summary feedback\n",
    "    prompt = f'Based on the following feedbacks create a summarized feedback \\n language feedback - {state[\"language_feedback\"]} \\n depth of analysis feedback - {state[\"analysis_feedback\"]} \\n clarity of thought feedback - {state[\"clarrity_feedback\"]}'\n",
    "    overall_feedback = model.invoke(prompt).content\n",
    "\n",
    "    # avg calculate\n",
    "    avg_score = sum(state['individual_scores'])/len(state['individual_scores'])\n",
    "\n",
    "    return {'overall_feedback': overall_feedback, 'avg_score': avg_score}"
   ]
  },
  {
   "cell_type": "code",
   "execution_count": 21,
   "id": "e13d3106",
   "metadata": {},
   "outputs": [],
   "source": [
    "graph=StateGraph(UPSCState)\n",
    "\n",
    "graph.add_node('evaluate_language',evaluate_language)\n",
    "graph.add_node('evaluate_analysis',evaluate_analysis)\n",
    "graph.add_node('evaluate_clarity',evaluate_clarity)\n",
    "graph.add_node('final_evalution',final_evaluation)\n",
    "\n",
    "#add edages\n",
    "graph.add_edge(START,'evaluate_language')\n",
    "graph.add_edge(START,'evaluate_analysis')\n",
    "graph.add_edge(START,'evaluate_clarity')\n",
    "\n",
    "graph.add_edge('evaluate_language','final_evalution')\n",
    "graph.add_edge('evaluate_analysis','final_evalution')\n",
    "graph.add_edge('evaluate_clarity','final_evalution')\n",
    "\n",
    "graph.add_edge('final_evalution',END)\n",
    "\n",
    "workflow=graph.compile()"
   ]
  },
  {
   "cell_type": "code",
   "execution_count": 22,
   "id": "c222253a",
   "metadata": {},
   "outputs": [
    {
     "data": {
      "image/png": "[encoded data removed]",
      "text/plain": [
       "<langgraph.graph.state.CompiledStateGraph object at 0x00000201BF913590>"
      ]
     },
     "execution_count": 22,
     "metadata": {},
     "output_type": "execute_result"
    }
   ],
   "source": [
    "workflow"
   ]
  },
  {
   "cell_type": "code",
   "execution_count": 23,
   "id": "b5852f1f",
   "metadata": {},
   "outputs": [
    {
     "name": "stdout",
     "output_type": "stream",
     "text": [
      "{'eassy': 'Artificial Intelligence (AI) is transforming the world, and India is no exception. With its vast population, growing digital infrastructure, and thriving technology sector, India is uniquely positioned to leverage AI for economic growth, social development, and governance. AI is no longer a futuristic concept—it is already influencing healthcare, agriculture, education, finance, and even public administration in India.\\n\\n1. AI in Governance and Public Services\\nThe Indian government is using AI to improve citizen services and governance. For example, AI-powered chatbots are helping citizens access government schemes easily, while facial recognition systems are being used for security and identification. Projects like Digital India and the National AI Strategy (AI for All) aim to make AI accessible for inclusive growth.\\n\\n2. AI in Healthcare\\nAI is helping doctors diagnose diseases faster, improve treatment plans, and predict health risks. During the COVID-19 pandemic, AI-based models were used for contact tracing and vaccine distribution planning. Telemedicine platforms with AI chatbots are making healthcare more affordable and accessible in rural areas.\\n\\n3. AI in Agriculture\\nAgriculture remains the backbone of India’s economy, and AI is improving productivity. AI-driven drones and satellite imagery help farmers monitor crop health, detect pests, and optimize irrigation. Predictive analytics also helps farmers make better decisions about sowing and harvesting.\\n\\n4. AI in Education\\nAI is personalizing learning experiences for students. Adaptive learning platforms provide customized lessons, while language translation tools help break barriers in India’s multilingual education system. AI tutors and chatbots are assisting teachers and students in remote areas.\\n\\n5. AI in Industry and Economy\\nAI is driving automation in manufacturing, logistics, and financial services. It helps businesses analyze large datasets, improve customer service, and detect fraud. Indian startups are increasingly adopting AI to create innovative solutions, boosting the digital economy.\\n\\n6. Challenges of AI in India\\nDespite its benefits, AI adoption in India faces challenges like lack of skilled workforce, inadequate data infrastructure, and ethical concerns regarding privacy and job displacement. To fully harness AI, India must invest in education, research, and policy frameworks.\\n\\nConclusion\\nAI has immense potential to transform India’s economy and society. From smart governance to precision farming, from improving healthcare to making education accessible, AI can bridge gaps and create opportunities for millions. However, to ensure inclusive growth, India must balance innovation with ethics and create policies that make AI beneficial for all.\\n\\nIn the future, AI will not just be a technological tool but a key driver of India’s journey towards becoming a global leader in the digital era.', 'language_feedback': 'The language quality of this essay is excellent. It presents a clear and well-structured argument about the impact of Artificial Intelligence on India. The writer provides numerous examples and evidence to support their claims, making the essay informative and engaging. The use of transitional phrases and cohesive devices is effective, and the language is precise and concise. However, there are a few minor errors in grammar and punctuation that detract from the overall quality of the writing. Overall, the essay demonstrates a high level of proficiency in language use.', 'analysis_feedback': 'The analysis provided is thorough and well-structured, covering various sectors where AI is being leveraged in India, including governance, healthcare, agriculture, education, and industry. The writer effectively highlights the benefits of AI, such as improved citizen services, better healthcare outcomes, increased agricultural productivity, and enhanced education experiences. The challenges of AI adoption in India are also adequately addressed, including the need for a skilled workforce, data infrastructure, and ethical considerations.', 'clarrity_feedback': 'The essay provides a clear and comprehensive overview of the impact of Artificial Intelligence (AI) on various sectors in India. The writer successfully highlights the benefits of AI in governance, healthcare, agriculture, education, and industry, and also acknowledges the challenges associated with its adoption. The essay is well-structured and easy to follow, with each section flowing smoothly into the next. The writer provides specific examples and data to support their points, making the essay more convincing. However, there are some areas that require improvement, such as providing more nuanced analysis and evaluating the implications of AI on different stakeholders.', 'overall_feedback': \"Here is a summarized feedback:\\n\\n**Overall Strengths:**\\n\\n* Excellent language quality with clear and concise writing\\n* Well-structured argument with effective use of transitional phrases and cohesive devices\\n* Thorough and well-structured analysis covering various sectors in India\\n* Clear and comprehensive overview of AI's impact on different sectors\\n* Effective highlighting of benefits and challenges of AI adoption\\n* Convincing examples and data to support points\\n\\n**Areas for Improvement:**\\n\\n* Minor errors in grammar and punctuation\\n* Need for more nuanced analysis and evaluation of AI's implications on different stakeholders\", 'individual_scores': [8, 8, 9], 'avg_score': 8.333333333333334}\n"
     ]
    }
   ],
   "source": [
    "initial_state={\"eassy\":eassy}\n",
    "\n",
    "final_out=workflow.invoke(initial_state)\n",
    "\n",
    "print(final_out)\n"
   ]
  },
  {
   "cell_type": "code",
   "execution_count": null,
   "id": "896698e6",
   "metadata": {},
   "outputs": [],
   "source": []
  },
  {
   "cell_type": "code",
   "execution_count": null,
   "id": "abeb611e",
   "metadata": {},
   "outputs": [],
   "source": []
  }
 ],
 "metadata": {
  "kernelspec": {
   "display_name": "venv",
   "language": "python",
   "name": "python3"
  },
  "language_info": {
   "codemirror_mode": {
    "name": "ipython",
    "version": 3
   },
   "file_extension": ".py",
   "mimetype": "text/x-python",
   "name": "python",
   "nbconvert_exporter": "python",
   "pygments_lexer": "ipython3",
   "version": "3.11.4"
  }
 },
 "nbformat": 4,
 "nbformat_minor": 5
}
