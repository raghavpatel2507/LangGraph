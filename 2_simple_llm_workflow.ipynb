{
 "cells": [
  {
   "cell_type": "code",
   "execution_count": 1,
   "id": "6649d2c0",
   "metadata": {},
   "outputs": [],
   "source": [
    "from langchain_groq import ChatGroq\n",
    "from langgraph.graph import StateGraph,START,END\n",
    "from typing import TypedDict\n",
    "from dotenv import load_dotenv"
   ]
  },
  {
   "cell_type": "code",
   "execution_count": 8,
   "id": "3087ad88",
   "metadata": {},
   "outputs": [],
   "source": [
    "load_dotenv()\n",
    "import os"
   ]
  },
  {
   "cell_type": "code",
   "execution_count": 9,
   "id": "9836f072",
   "metadata": {},
   "outputs": [],
   "source": [
    "GROQ_API_KEY=os.getenv(\"GROQ_API_KEY\")"
   ]
  },
  {
   "cell_type": "code",
   "execution_count": null,
   "id": "a2e0e171",
   "metadata": {},
   "outputs": [],
   "source": [
    "model=ChatGroq(model=\"llama3-70b-8192\",api_key=GROQ_API_KEY)"
   ]
  },
  {
   "cell_type": "code",
   "execution_count": 3,
   "id": "3814d717",
   "metadata": {},
   "outputs": [],
   "source": [
    "#create state\n",
    "\n",
    "class LLMstate(TypedDict):\n",
    "    question:str\n",
    "    answer:str\n"
   ]
  },
  {
   "cell_type": "code",
   "execution_count": 4,
   "id": "05061ebd",
   "metadata": {},
   "outputs": [],
   "source": [
    "def llm_qa(state:LLMstate)->LLMstate:\n",
    "    #extract the question from state\n",
    "    question=state['question']\n",
    "\n",
    "    #form a prompt\n",
    "    prompt=f\"answer the following question {question}\"\n",
    "    #ask the question to llm\n",
    "    answer=model.invoke(prompt).content\n",
    "    #update the answer in state\n",
    "    state['answer']=answer\n",
    "\n",
    "    return state\n",
    "\n"
   ]
  },
  {
   "cell_type": "code",
   "execution_count": 5,
   "id": "19ca18a8",
   "metadata": {},
   "outputs": [],
   "source": [
    "#create a graph\n",
    "graph=StateGraph(LLMstate)\n",
    "\n",
    "#create a node\n",
    "graph.add_node(\"LLM_QA\",llm_qa)\n",
    "\n",
    "#add edges\n",
    "graph.add_edge(START,'LLM_QA')\n",
    "graph.add_edge('LLM_QA',END)\n",
    "\n",
    "#compile the graph\n",
    "\n",
    "workflow=graph.compile()"
   ]
  },
  {
   "cell_type": "code",
   "execution_count": null,
   "id": "a9f66a44",
   "metadata": {},
   "outputs": [
    {
     "data": {
      "image/png": "[encoded data removed]",
      "text/plain": [
       "<IPython.core.display.Image object>"
      ]
     },
     "execution_count": 6,
     "metadata": {},
     "output_type": "execute_result"
    }
   ],
   "source": [
    "from IPython.display import Image\n",
    "Image(workflow.get_graph().draw_mermaid_png())"
   ]
  },
  {
   "cell_type": "code",
   "execution_count": 12,
   "id": "47e2c546",
   "metadata": {},
   "outputs": [
    {
     "name": "stdout",
     "output_type": "stream",
     "text": [
      "LangGraph is a fascinating concept!\n",
      "\n",
      "LangGraph is a type of graph data structure specifically designed to represent and process natural language data. It's a powerful tool for natural language processing (NLP) and information retrieval.\n",
      "\n",
      "In a LangGraph, nodes represent words, phrases, or entities, and edges connect these nodes based on their semantic relationships, such as synonymy, hyponymy, hypernymy, and other linguistic connections. This graph structure allows for efficient querying, traversal, and analysis of language data.\n",
      "\n",
      "LangGraphs can be used in various applications, including:\n",
      "\n",
      "1. **Word sense induction**: to identify and disambiguate word senses\n",
      "2. **Semantic search**: to improve search engine results by understanding the semantic context of queries\n",
      "3. **Text summarization**: to extract key concepts and relationships from large documents\n",
      "4. **Question answering**: to identify answers to questions based on semantic relationships in the LangGraph\n",
      "5. **Language modeling**: to improve language models by incorporating semantic relationships and context\n",
      "\n",
      "The benefits of LangGraphs include:\n",
      "\n",
      "* **Scalability**: to handle large volumes of language data\n",
      "* **Flexibility**: to accommodate various types of semantic relationships and linguistic structures\n",
      "* **Efficiency**: to enable fast querying and analysis of language data\n",
      "\n",
      "Overall, LangGraphs provide a powerful framework for understanding and processing natural language data, enabling more accurate and efficient NLP applications.\n",
      "\n",
      "Would you like to know more about LangGraphs or their applications?\n"
     ]
    }
   ],
   "source": [
    "initial_state={\"question\":\"what is the langgraph\"}\n",
    "\n",
    "final_out=workflow.invoke(initial_state)\n",
    "\n",
    "print(final_out['answer'])"
   ]
  },
  {
   "cell_type": "code",
   "execution_count": null,
   "id": "5cd8eb64",
   "metadata": {},
   "outputs": [],
   "source": []
  }
 ],
 "metadata": {
  "kernelspec": {
   "display_name": "venv",
   "language": "python",
   "name": "python3"
  },
  "language_info": {
   "codemirror_mode": {
    "name": "ipython",
    "version": 3
   },
   "file_extension": ".py",
   "mimetype": "text/x-python",
   "name": "python",
   "nbconvert_exporter": "python",
   "pygments_lexer": "ipython3",
   "version": "3.11.4"
  }
 },
 "nbformat": 4,
 "nbformat_minor": 5
}
