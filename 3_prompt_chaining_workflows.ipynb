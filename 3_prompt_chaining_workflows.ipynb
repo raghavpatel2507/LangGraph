{
 "cells": [
  {
   "cell_type": "code",
   "execution_count": 1,
   "id": "9f45b8e0",
   "metadata": {},
   "outputs": [],
   "source": [
    "from langchain_groq import ChatGroq\n",
    "from langgraph.graph import StateGraph,START,END\n",
    "from typing import TypedDict\n",
    "from dotenv import load_dotenv"
   ]
  },
  {
   "cell_type": "code",
   "execution_count": 2,
   "id": "48e815f2",
   "metadata": {},
   "outputs": [],
   "source": [
    "load_dotenv()\n",
    "import os"
   ]
  },
  {
   "cell_type": "code",
   "execution_count": 3,
   "id": "048c9423",
   "metadata": {},
   "outputs": [],
   "source": [
    "GROQ_API_KEY=os.getenv(\"GROQ_API_KEY\")"
   ]
  },
  {
   "cell_type": "code",
   "execution_count": 4,
   "id": "b5913231",
   "metadata": {},
   "outputs": [],
   "source": [
    "model=ChatGroq(model=\"llama3-70b-8192\",api_key=GROQ_API_KEY)"
   ]
  },
  {
   "cell_type": "code",
   "execution_count": 5,
   "id": "8c398895",
   "metadata": {},
   "outputs": [],
   "source": [
    "#create state\n",
    "\n",
    "class Blogstate(TypedDict):\n",
    "    title :str\n",
    "    outline:str\n",
    "    content:str\n"
   ]
  },
  {
   "cell_type": "code",
   "execution_count": 6,
   "id": "2b14a89b",
   "metadata": {},
   "outputs": [],
   "source": [
    "def create_outline(state:Blogstate)->Blogstate:\n",
    "    title=state['title']\n",
    "\n",
    "    prompt=f\"Ganarte a outline for a blog on the topic -{title}\"\n",
    "\n",
    "    state['outline']=model.invoke(prompt).content\n",
    "\n",
    "\n",
    "    return state"
   ]
  },
  {
   "cell_type": "code",
   "execution_count": 7,
   "id": "d3f0b721",
   "metadata": {},
   "outputs": [],
   "source": [
    "def craete_blog(state:Blogstate)->Blogstate:\n",
    "    title=state['title']\n",
    "    outline=state['outline']\n",
    "\n",
    "    prompt=f'write a deteailed blog on the title {title} using the following outline-{outline}'\n",
    "\n",
    "    state['content']=model.invoke(prompt).content\n",
    "\n",
    "    return state"
   ]
  },
  {
   "cell_type": "code",
   "execution_count": 8,
   "id": "4919165a",
   "metadata": {},
   "outputs": [],
   "source": [
    "#create a graph\n",
    "graph=StateGraph(Blogstate)\n",
    "\n",
    "#create a node\n",
    "graph.add_node(\"create_outline\",create_outline)\n",
    "graph.add_node(\"craete_blog\",craete_blog)\n",
    "\n",
    "#add edges\n",
    "graph.add_edge(START,'create_outline')\n",
    "graph.add_edge('create_outline','craete_blog')\n",
    "graph.add_edge('craete_blog',END)\n",
    "\n",
    "#compile the graph\n",
    "\n",
    "workflow=graph.compile()"
   ]
  },
  {
   "cell_type": "code",
   "execution_count": 9,
   "id": "e7ac5d5c",
   "metadata": {},
   "outputs": [
    {
     "data": {
      "image/png": "[encoded data removed]",
      "text/plain": [
       "<IPython.core.display.Image object>"
      ]
     },
     "execution_count": 9,
     "metadata": {},
     "output_type": "execute_result"
    }
   ],
   "source": [
    "from IPython.display import Image\n",
    "Image(workflow.get_graph().draw_mermaid_png())"
   ]
  },
  {
   "cell_type": "code",
   "execution_count": 12,
   "id": "ffb54595",
   "metadata": {},
   "outputs": [
    {
     "name": "stdout",
     "output_type": "stream",
     "text": [
      "Here is a suggested outline for a blog on the topic \"Rise of AI in India\":\n",
      "\n",
      "**I. Introduction**\n",
      "\n",
      "* Brief overview of AI and its growing importance globally\n",
      "* Importance of AI in India's economic growth and development\n",
      "* Thesis statement: India is witnessing a significant rise in AI adoption, with both the government and private sector investing heavily in AI research and development.\n",
      "\n",
      "**II. Government Initiatives**\n",
      "\n",
      "* Overview of Indian government's AI-related initiatives, such as:\n",
      "\t+ National Strategy for Artificial Intelligence (NSAI)\n",
      "\t+ AI for All initiative\n",
      "\t+ Setting up of AI research centers and institutes\n",
      "* Discussion of government's efforts to create an AI ecosystem in India\n",
      "\n",
      "**III. AI Adoption in Various Industries**\n",
      "\n",
      "* Overview of AI adoption in various industries in India, such as:\n",
      "\t+ Healthcare: AI-powered diagnosis, telemedicine, and personalized medicine\n",
      "\t+ Finance: AI-powered chatbots, fraud detection, and credit scoring\n",
      "\t+ Education: AI-powered learning platforms, adaptive learning, and intelligent tutoring systems\n",
      "\t+ Manufacturing: AI-powered supply chain management, predictive maintenance, and quality control\n",
      "* Examples of companies and startups that are leading the way in AI adoption in these industries\n",
      "\n",
      "**IV. Startups and Innovation**\n",
      "\n",
      "* Overview of India's AI startup ecosystem, including:\n",
      "\t+ Number of AI startups in India\n",
      "\t+ Funding and investment in AI startups\n",
      "\t+ Successful AI startups in India, such as:\n",
      "\t\t- Niki.ai (chatbot-based e-commerce platform)\n",
      "\t\t- SigTuple (AI-powered medical diagnosis platform)\n",
      "\t\t- Wipro HOLMES (AI-powered automation platform)\n",
      "* Discussion of the challenges faced by AI startups in India, such as talent acquisition and retention, funding, and regulation\n",
      "\n",
      "**V. Talent and Education**\n",
      "\n",
      "* Overview of the talent landscape for AI in India, including:\n",
      "\t+ Availability of skilled professionals in AI and related fields\n",
      "\t+ Initiatives to develop AI talent, such as AI-focused courses and programs\n",
      "\t+ Challenges in developing and retaining AI talent in India\n",
      "* Discussion of the need for education and upskilling programs to support AI adoption in India\n",
      "\n",
      "**VI. Challenges and Concerns**\n",
      "\n",
      "* Overview of the challenges and concerns related to AI adoption in India, including:\n",
      "\t+ Job displacement and unemployment\n",
      "\t+ Bias and ethics in AI decision-making\n",
      "\t+ Cybersecurity and data privacy concerns\n",
      "\t+ Lack of standardization and regulation in AI development and deployment\n",
      "* Discussion of the need for responsible AI development and deployment practices in India\n",
      "\n",
      "**VII. Conclusion**\n",
      "\n",
      "* Recap of the rise of AI in India\n",
      "* Importance of continued investment and innovation in AI research and development\n",
      "* Final thoughts on the potential of AI to transform India's economy and society.\n",
      "\n",
      "This outline should provide a good structure for a comprehensive blog on the rise of AI in India. You can expand or modify it as needed to fit your specific goals and requirements.\n"
     ]
    }
   ],
   "source": [
    "initial_state={\"title\":\"rise in AI in india\"}\n",
    "\n",
    "final_out=workflow.invoke(initial_state)\n",
    "\n",
    "print(final_out['outline'])\n"
   ]
  },
  {
   "cell_type": "code",
   "execution_count": 13,
   "id": "92210e3e",
   "metadata": {},
   "outputs": [
    {
     "name": "stdout",
     "output_type": "stream",
     "text": [
      "Here is a detailed blog on the rise of AI in India based on the provided outline:\n",
      "\n",
      "**I. Introduction**\n",
      "\n",
      "Artificial intelligence (AI) has been transforming the world at an unprecedented pace. From virtual assistants to self-driving cars, AI has become an integral part of our daily lives. India, in particular, has been witnessing a significant rise in AI adoption, with both the government and private sector investing heavily in AI research and development. In this blog, we will explore the rise of AI in India, its applications across various industries, and the challenges that lie ahead.\n",
      "\n",
      "**II. Government Initiatives**\n",
      "\n",
      "The Indian government has been at the forefront of promoting AI adoption in the country. In 2018, the government launched the National Strategy for Artificial Intelligence (NSAI), which aims to position India as a leader in AI research and development. The NSAI has identified five core areas for AI development: healthcare, education, infrastructure, transportation, and cybersecurity.\n",
      "\n",
      "Another key initiative is the \"AI for All\" program, which aims to promote AI adoption across various sectors, including agriculture, healthcare, and education. The government has also set up several AI research centers and institutes, such as the Indian Institute of Technology (IIT) Delhi's AI Research Centre, to promote AI research and development.\n",
      "\n",
      "The government's efforts have led to the creation of an AI ecosystem in India, with several startups and companies emerging as leaders in AI development and deployment.\n",
      "\n",
      "**III. AI Adoption in Various Industries**\n",
      "\n",
      "AI adoption has been gaining momentum across various industries in India. Here are a few examples:\n",
      "\n",
      "* **Healthcare:** AI-powered diagnosis, telemedicine, and personalized medicine are transforming the healthcare industry in India. Companies like SigTuple are using AI to develop medical diagnosis platforms that can detect diseases with high accuracy.\n",
      "* **Finance:** AI-powered chatbots, fraud detection, and credit scoring are being used by banks and financial institutions to improve customer experience and reduce risk. Companies like HDFC Bank are using AI-powered chatbots to provide customer support.\n",
      "* **Education:** AI-powered learning platforms, adaptive learning, and intelligent tutoring systems are being used to improve learning outcomes in India. Companies like Byju's are using AI-powered learning platforms to provide personalized education to students.\n",
      "* **Manufacturing:** AI-powered supply chain management, predictive maintenance, and quality control are being used by manufacturers to improve efficiency and reduce costs. Companies like Tata Steel are using AI-powered predictive maintenance to reduce downtime and improve productivity.\n",
      "\n",
      "These are just a few examples of AI adoption in various industries in India. With the increasing availability of data and computing power, AI adoption is expected to grow exponentially in the coming years.\n",
      "\n",
      "**IV. Startups and Innovation**\n",
      "\n",
      "India's AI startup ecosystem is thriving, with several startups emerging as leaders in AI development and deployment. According to a report by Tracxn, there are over 1,000 AI startups in India, with a combined valuation of over $1 billion.\n",
      "\n",
      "Funding and investment in AI startups have also been on the rise. In 2020, AI startups in India raised over $1.5 billion in funding, with companies like Niki.ai and SigTuple raising significant rounds of funding.\n",
      "\n",
      "Despite the growth, AI startups in India face several challenges, including talent acquisition and retention, funding, and regulation. However, with the government's support and initiatives, AI startups are expected to continue to thrive in India.\n",
      "\n",
      "**V. Talent and Education**\n",
      "\n",
      "The talent landscape for AI in India is evolving rapidly. With the increasing demand for AI professionals, there is a growing need for skilled professionals in AI and related fields.\n",
      "\n",
      "Several initiatives have been launched to develop AI talent in India, including AI-focused courses and programs by top universities and institutions. For example, IIT Delhi has launched an AI-focused course, while the Indian Institute of Science (IISc) has launched an AI-focused program.\n",
      "\n",
      "However, despite these initiatives, there are still challenges in developing and retaining AI talent in India. The lack of experienced AI professionals and the high demand for AI talent are some of the key challenges facing India's AI ecosystem.\n",
      "\n",
      "**VI. Challenges and Concerns**\n",
      "\n",
      "While AI adoption has been growing rapidly in India, there are several challenges and concerns that need to be addressed. These include:\n",
      "\n",
      "* **Job displacement and unemployment:** AI has the potential to displace jobs, particularly in sectors where tasks are repetitive and can be automated.\n",
      "* **Bias and ethics in AI decision-making:** AI systems can perpetuate biases and discrimination, particularly if they are trained on biased data.\n",
      "* **Cybersecurity and data privacy concerns:** AI systems can be vulnerable to cyber attacks, and there is a need for robust data privacy regulations to protect user data.\n",
      "* **Lack of standardization and regulation:** There is a need for standardization and regulation in AI development and deployment to ensure that AI systems are safe and secure.\n",
      "\n",
      "To address these challenges, there is a need for responsible AI development and deployment practices in India. This includes ensuring that AI systems are designed and deployed with ethics and fairness in mind, and that there are robust regulations and standards in place to protect users and prevent misuse.\n",
      "\n",
      "**VII. Conclusion**\n",
      "\n",
      "In conclusion, the rise of AI in India is a significant trend that has the potential to transform India's economy and society. With the government's support and initiatives, AI adoption is expected to grow exponentially in the coming years.\n",
      "\n",
      "However, to realize the full potential of AI, there is a need for continued investment and innovation in AI research and development. Additionally, there is a need to address the challenges and concerns related to AI adoption, including job displacement, bias and ethics, cybersecurity and data privacy, and lack of standardization and regulation.\n",
      "\n",
      "Ultimately, the rise of AI in India presents a significant opportunity for India to emerge as a leader in AI research and development. With the right policies, investments, and initiatives, India can unlock the full potential of AI and transform its economy and society for the better.\n"
     ]
    }
   ],
   "source": [
    "print(final_out['content'])"
   ]
  }
 ],
 "metadata": {
  "kernelspec": {
   "display_name": "venv",
   "language": "python",
   "name": "python3"
  },
  "language_info": {
   "codemirror_mode": {
    "name": "ipython",
    "version": 3
   },
   "file_extension": ".py",
   "mimetype": "text/x-python",
   "name": "python",
   "nbconvert_exporter": "python",
   "pygments_lexer": "ipython3",
   "version": "3.11.4"
  }
 },
 "nbformat": 4,
 "nbformat_minor": 5
}
